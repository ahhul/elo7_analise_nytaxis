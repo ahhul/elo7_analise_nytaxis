{
 "cells": [
  {
   "cell_type": "markdown",
   "id": "3cd591dd",
   "metadata": {},
   "source": [
    "# Análise dos dados de viagem dos táxis amarelos de New York"
   ]
  },
  {
   "cell_type": "code",
   "execution_count": 1,
   "id": "8e34afb3",
   "metadata": {},
   "outputs": [],
   "source": [
    "# import das bibliotecas e funções necessárias\n",
    "import pandas as pd"
   ]
  },
  {
   "cell_type": "markdown",
   "id": "7018a96c",
   "metadata": {},
   "source": [
    "## Em que período do ano os táxis são mais utilizados?"
   ]
  },
  {
   "cell_type": "code",
   "execution_count": 2,
   "id": "11693baa",
   "metadata": {},
   "outputs": [
    {
     "data": {
      "text/html": [
       "<div>\n",
       "<style scoped>\n",
       "    .dataframe tbody tr th:only-of-type {\n",
       "        vertical-align: middle;\n",
       "    }\n",
       "\n",
       "    .dataframe tbody tr th {\n",
       "        vertical-align: top;\n",
       "    }\n",
       "\n",
       "    .dataframe thead th {\n",
       "        text-align: right;\n",
       "    }\n",
       "</style>\n",
       "<table border=\"1\" class=\"dataframe\">\n",
       "  <thead>\n",
       "    <tr style=\"text-align: right;\">\n",
       "      <th></th>\n",
       "      <th>month</th>\n",
       "      <th>number_trips</th>\n",
       "    </tr>\n",
       "  </thead>\n",
       "  <tbody>\n",
       "    <tr>\n",
       "      <th>0</th>\n",
       "      <td>January</td>\n",
       "      <td>6405008</td>\n",
       "    </tr>\n",
       "    <tr>\n",
       "      <th>1</th>\n",
       "      <td>February</td>\n",
       "      <td>6299354</td>\n",
       "    </tr>\n",
       "    <tr>\n",
       "      <th>2</th>\n",
       "      <td>March</td>\n",
       "      <td>3007292</td>\n",
       "    </tr>\n",
       "    <tr>\n",
       "      <th>3</th>\n",
       "      <td>April</td>\n",
       "      <td>237993</td>\n",
       "    </tr>\n",
       "    <tr>\n",
       "      <th>4</th>\n",
       "      <td>May</td>\n",
       "      <td>348371</td>\n",
       "    </tr>\n",
       "    <tr>\n",
       "      <th>5</th>\n",
       "      <td>June</td>\n",
       "      <td>549760</td>\n",
       "    </tr>\n",
       "    <tr>\n",
       "      <th>6</th>\n",
       "      <td>July</td>\n",
       "      <td>800412</td>\n",
       "    </tr>\n",
       "    <tr>\n",
       "      <th>7</th>\n",
       "      <td>August</td>\n",
       "      <td>1007284</td>\n",
       "    </tr>\n",
       "    <tr>\n",
       "      <th>8</th>\n",
       "      <td>September</td>\n",
       "      <td>1341012</td>\n",
       "    </tr>\n",
       "    <tr>\n",
       "      <th>9</th>\n",
       "      <td>October</td>\n",
       "      <td>1681131</td>\n",
       "    </tr>\n",
       "    <tr>\n",
       "      <th>10</th>\n",
       "      <td>November</td>\n",
       "      <td>1508985</td>\n",
       "    </tr>\n",
       "    <tr>\n",
       "      <th>11</th>\n",
       "      <td>December</td>\n",
       "      <td>1461897</td>\n",
       "    </tr>\n",
       "  </tbody>\n",
       "</table>\n",
       "</div>"
      ],
      "text/plain": [
       "        month  number_trips\n",
       "0     January       6405008\n",
       "1    February       6299354\n",
       "2       March       3007292\n",
       "3       April        237993\n",
       "4         May        348371\n",
       "5        June        549760\n",
       "6        July        800412\n",
       "7      August       1007284\n",
       "8   September       1341012\n",
       "9     October       1681131\n",
       "10   November       1508985\n",
       "11   December       1461897"
      ]
     },
     "execution_count": 2,
     "metadata": {},
     "output_type": "execute_result"
    }
   ],
   "source": [
    "# Import para conversão dos meses de número para string\n",
    "import calendar\n",
    "\n",
    "def most_trips():\n",
    "    # Lista para armazenar as viagens de taxis por mês\n",
    "    trip_month = []\n",
    "\n",
    "    # Especificação dos tipos das colunas para diminuir o consumo de memória da função read_csv()\n",
    "    column_type = {'VendorID': float, 'tpep_pickup_datetime': str, 'tpep_dropoff_datetime':  str, \\\n",
    "                'passenger_count': float, 'trip_distance': float, 'RatecodeID': float, \\\n",
    "                'store_and_fwd_flag': str, 'PULocationID': int, 'DOLocationID': int, \\\n",
    "                'payment_type': float, 'fare_amount': float, 'extra': float, 'mta_tax': float, \\\n",
    "                'tip_amount': float, 'tolls_amount': float, 'improvement_surcharge': float, \\\n",
    "                'total_amount': float, 'congestion_surcharge': float}\n",
    "    \n",
    "    for i in range(1, 13):\n",
    "        # Carregamento do dataset referente ao mês da iteração\n",
    "        month = pd.read_csv('data/yellow_tripdata_2020-' + str(i).zfill(2) + '.csv', dtype = column_type)\n",
    "        \n",
    "        # Adiciona o número de viagens na lista trip_month\n",
    "        trip_month.append([int(str(i).zfill(2)), month['tpep_pickup_datetime'].count()])\n",
    "        \n",
    "        # Remove o dataset do mês a fim de liberar espaço na memória\n",
    "        del month\n",
    "    \n",
    "    # Cria um dataset para armazenar as viagens por mês a partir da lista trip_month\n",
    "    number_trips = pd.DataFrame(trip_month, columns = ['month', 'number_trips'])\n",
    "    \n",
    "    # Converte o número referente ao mês em nome do mês para fins estéticos\n",
    "    number_trips['month'] = number_trips['month'].apply(lambda x: calendar.month_name[x])\n",
    "    \n",
    "    return number_trips\n",
    "\n",
    "\n",
    "most_trips().head(12)"
   ]
  },
  {
   "cell_type": "markdown",
   "id": "131c71b6",
   "metadata": {},
   "source": [
    "### Os taxis foram mais utilizados no mês de Janeiro de 2020, com um número de 6405008 viagens."
   ]
  },
  {
   "cell_type": "markdown",
   "id": "1bf09e6a",
   "metadata": {},
   "source": [
    "## Demonstre através de gráficos os bairros que possuem maior uso de táxis por mês."
   ]
  },
  {
   "cell_type": "markdown",
   "id": "4e3c07e5",
   "metadata": {},
   "source": [
    "## Em quais janela de tempo as viagens contém mais passageiros?"
   ]
  },
  {
   "cell_type": "markdown",
   "id": "dbc4d60b",
   "metadata": {},
   "source": [
    "## Demonstre através de gráficos os bairros que possuem maior número de passageiros por janela de tempo.\n",
    "Utilize as janelas abaixo:\n",
    "\n",
    " - 0 as 5 (4:59)\n",
    " - 5 as 11\n",
    " - 11 as 14\n",
    " - 14 as 17\n",
    " - 17 as 21\n",
    " - 21 as 24"
   ]
  },
  {
   "cell_type": "markdown",
   "id": "fcc0933c",
   "metadata": {},
   "source": [
    "## Como a distância se correlaciona com a duração das viagens? \n",
    "Demonstre através de gráficos essa correlação."
   ]
  },
  {
   "cell_type": "markdown",
   "id": "2ec4d830",
   "metadata": {},
   "source": [
    "## Descreva como você faria para agendar a execução diaria e/ou mensal destes jobs."
   ]
  },
  {
   "cell_type": "code",
   "execution_count": null,
   "id": "a0a4c774",
   "metadata": {},
   "outputs": [],
   "source": []
  }
 ],
 "metadata": {
  "kernelspec": {
   "display_name": "Python 3",
   "language": "python",
   "name": "python3"
  },
  "language_info": {
   "codemirror_mode": {
    "name": "ipython",
    "version": 3
   },
   "file_extension": ".py",
   "mimetype": "text/x-python",
   "name": "python",
   "nbconvert_exporter": "python",
   "pygments_lexer": "ipython3",
   "version": "3.7.6"
  }
 },
 "nbformat": 4,
 "nbformat_minor": 5
}
